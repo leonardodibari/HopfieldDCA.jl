{
 "cells": [
  {
   "cell_type": "code",
   "execution_count": null,
   "metadata": {},
   "outputs": [],
   "source": [
    "../julia-1.10.0/bin/julia --project=. --thread 32"
   ]
  },
  {
   "cell_type": "code",
   "execution_count": null,
   "metadata": {},
   "outputs": [],
   "source": [
    "\n",
    "using HopfieldDCA, Revise\n",
    "filepath = \"../DataAttentionDCA/data/PF00014/PF00014_mgap6.fasta.gz\"; H = 32; alg = HopPlmVar_gen(H, filepath);\n",
    "n_ep = 3; η = 0.5; λ = 0.001;\n",
    "@time m,n = trainer_J(alg, n_ep, η = η, λ = λ, fig_save = true, );\n",
    "println(\"test_done\")\n"
   ]
  },
  {
   "cell_type": "code",
   "execution_count": null,
   "metadata": {},
   "outputs": [],
   "source": [
    "using HopfieldDCA, Revise\n",
    "folders = [\"../DataAttentionDCA/data/PF00014/\",\n",
    "\"../DataAttentionDCA/data/PF00035/\",\n",
    "\"../DataAttentionDCA/data/PF00072/\",\n",
    "\"../DataAttentionDCA/data/PF00076/\",\n",
    "\"../DataAttentionDCA/data/PF00169/\",\n",
    "\"../DataAttentionDCA/data/PF00595/\",\n",
    "\"../DataAttentionDCA/data/PF00677/\",\n",
    "\"../DataAttentionDCA/data/PF00684/\",\n",
    "\"../DataAttentionDCA/data/PF00763/\",\n",
    "\"../DataAttentionDCA/data/PF13354/\"]; seq_paths = [\"../DataAttentionDCA/data/PF00014/PF00014_mgap6.fasta.gz\",\n",
    "       \"../DataAttentionDCA/data/PF00035/PF00035_full.fasta\",\n",
    "       \"../DataAttentionDCA/data/PF00072/PF00072_mgap6.fasta.gz\",\n",
    "       \"../DataAttentionDCA/data/PF00076/PF00076_mgap6.fasta.gz\",\n",
    "       \"../DataAttentionDCA/data/PF00169/PF00169_full.fasta\",\n",
    "       \"../DataAttentionDCA/data/PF00595/PF00595_mgap6.fasta.gz\",\n",
    "       \"../DataAttentionDCA/data/PF00677/PF00677_full.fasta\",\n",
    "       \"../DataAttentionDCA/data/PF00684/PF00684_full.fasta\",\n",
    "       \"../DataAttentionDCA/data/PF00763/PF00763_full.fasta\",\n",
    "       \"../DataAttentionDCA/data/PF13354/PF13354_w0_ref_seqs.fasta.gz\"]; structs = [\"../DataAttentionDCA/data/PF00014/PF00014_struct.dat\",\n",
    "       \"../DataAttentionDCA/data/PF00035/Atomic_distances_PF00035.dat\",\n",
    "       \"../DataAttentionDCA/data/PF00072/PF00072_struct.dat\",\n",
    "       \"../DataAttentionDCA/data/PF00076/PF00076_struct.dat\",\n",
    "       \"../DataAttentionDCA/data/PF00169/Atomic_distances_PF00169.dat\",\n",
    "       \"../DataAttentionDCA/data/PF00595/PF00595_struct.dat\",\n",
    "       \"../DataAttentionDCA/data/PF00677/Atomic_distances_PF00677.dat\",\n",
    "       \"../DataAttentionDCA/data/PF00684/Atomic_distances_PF00684.dat\",\n",
    "       \"../DataAttentionDCA/data/PF00763/Atomic_distances_PF00763.dat\",\n",
    "       \"../DataAttentionDCA/data/PF13354/PF13354_struct.dat\"]; \n",
    "idx = 1; filepath = seq_paths[idx]; H = 32; alg = HopPlmVar_gen(H, filepath); η = 0.5; λ = 0.001;\n",
    "n_ep = 2; @time m,n = trainer_J(alg, n_ep, η = η, λ = λ, \n",
    "    structfile = structs[idx],\n",
    "    folder = folders[idx], \n",
    "    savefile = folders[idx], \n",
    "    fig_save = true, \n",
    "    par_save = true);\n"
   ]
  },
  {
   "cell_type": "code",
   "execution_count": null,
   "metadata": {},
   "outputs": [],
   "source": [
    "#code for testing analytical gradient\n",
    "using HopfieldDCA; using Tullio; import Flux: gradient;\n",
    "filepath = \"../DataAttentionDCA/data/PF00014/PF00014_mgap6.fasta.gz\"; H =32; alg = HopPlmVar_gen(H, filepath;T=Float64); _w = alg.W ./ sum(alg.W); tmp = Stg(alg);\n",
    "@time gt = get_anal_grad(alg.K, alg.V, alg.Z, _w, tmp);\n",
    "@time gk,gv = gradient((p1,p2)->get_loss_J(p1,p2, alg.Z, _w), alg.K, alg.V);\n",
    "sum(gt.K[:].-gk[:])\n",
    "sum(gt.V[:].-gv[:])\n",
    "import BenchmarkTools: @btime\n",
    "@btime gkt,gvt = get_anal_grad(alg.K, alg.V, alg.Z, _w, tmp);\n",
    "@btime gk,gv = gradient((p1,p2)->get_loss_J(p1,p2, alg.Z, _w), alg.K, alg.V);\n",
    "n_ep = 30; η = 0.5; λ = 0.001;\n",
    "@time m,n = trainer_J(alg, n_ep, η = η, λ = λ);\n",
    "@time m,n = trainer(alg, n_ep, η = η, λ = λ);\n",
    "@time m,n = trainer_J(alg, n_ep, η = η, λ = λ);\n",
    "@time m,n = trainer(alg, n_ep, η = η, λ = λ);\n",
    "println(\"the end\")\n"
   ]
  },
  {
   "cell_type": "code",
   "execution_count": null,
   "metadata": {},
   "outputs": [],
   "source": [
    "structfile = \"../DataAttentionDCA/data/PF00014/PF00014_struct.dat\"\n",
    "s = HopfieldDCA.score(m.K, m.V); PPV_h = HopfieldDCA.compute_PPV(s, structfile);\n",
    "\n",
    "close(\"all\"); plot(ppv_plm[1], label=\"Plm\"); plot(PPV_h, label=\"HopPlm\");legend();savefig(\"ciao.png\");\n",
    "\n"
   ]
  }
 ],
 "metadata": {
  "kernelspec": {
   "display_name": "Julia 1.10.0",
   "language": "julia",
   "name": "julia-1.10"
  },
  "language_info": {
   "file_extension": ".jl",
   "mimetype": "application/julia",
   "name": "julia",
   "version": "1.10.0"
  }
 },
 "nbformat": 4,
 "nbformat_minor": 4
}
