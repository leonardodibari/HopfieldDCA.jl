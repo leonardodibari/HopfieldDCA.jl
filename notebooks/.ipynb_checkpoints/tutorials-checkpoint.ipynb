{
 "cells": [
  {
   "cell_type": "code",
   "execution_count": null,
   "metadata": {},
   "outputs": [],
   "source": [
    "../julia-1.10.0/bin/julia --project=. --thread 32"
   ]
  },
  {
   "cell_type": "code",
   "execution_count": null,
   "metadata": {},
   "outputs": [],
   "source": [
    "## single family learning\n",
    "using Revise, HopfieldDCA\n",
    "\n",
    "f = 14; H = 21; n_ep = 60; alg = HopPlmVar_gen(H, seq_paths_dict[f], T = Float32); η = 0.5; λ = 0.001;  @time m,n = trainer_J(alg, n_ep, η = η, λ = λ, \n",
    "    structfile = structs_dict[f],\n",
    "    folder = folders_dict[f], \n",
    "    savefile = folders_dict[f],\n",
    "    orthog = false,\n",
    "    fig_save = true, \n",
    "    par_save = true);\n",
    "\n",
    "\n",
    "f = 14; H = 32; n_ep = 20; alg = HopPlmVar_gen(H, seq_paths_dict[f], T = Float32); η = 0.05; λ = Float32(0.001);  @time K,n = trainer_J_fixedV(alg, n_ep, V, η = η, λ = λ, \n",
    "    structfile = structs_dict[f],\n",
    "    folder = folders_dict[f], \n",
    "    savefile = folders_dict[f], \n",
    "    fig_save = true, \n",
    "    par_save = true);\n",
    "\n",
    "\n",
    "f = 14; H = 32; n_ep = 11; alg = HopPlmVar_full(H, seq_paths_dict[f], T = Float32); η = 0.5; λ = 0.001;  @time m,n = trainer_fullJ(alg, n_ep, η = η, λ = λ, \n",
    "    structfile = structs_dict[f],\n",
    "    folder = folders_dict[f], \n",
    "    savefile = folders_dict[f],\n",
    "    orthog = false,\n",
    "    fig_save = true, \n",
    "    par_save = true);\n",
    "\n",
    "f = 763; H = 10; n_ep = 2; alg = HopPlmVar_full(H, seq_paths_dict[f], T = Float32); η = 0.5; λ = 0.001;  @time m,n = trainer_fullJ(alg, n_ep, η = η, λ = λ, \n",
    "    structfile = structs_dict[f],\n",
    "    folder = folders_dict[f], \n",
    "    savefile = folders_dict[f], \n",
    "    fig_save = true, \n",
    "    par_save = true);\n"
   ]
  },
  {
   "cell_type": "code",
   "execution_count": null,
   "metadata": {},
   "outputs": [],
   "source": [
    "#multi family learning\n",
    "using Revise, HopfieldDCA\n",
    "fs = [14, 35, 76, 677, 763]; H = 32; algs = [HopPlmVar_gen(H, seq_paths_dict[f], T = Float32) \n",
    "    for f in fs]; \n",
    "n_ep = 2; η = 0.5; lambda = Float32(0.001); @time Ks = multitrainer_fixedV(fs, algs, n_ep, V, η = η, lambda = lambda,\n",
    "savefile = \"../ciao.txt\", fig_save = true);\n",
    "\n",
    "fs = [14, 35, 76, 677, 763]; H = 21; algs = [HopPlmVar_gen(H, seq_paths_dict[f], T = Float32) \n",
    "    for f in fs]; \n",
    "n_ep = 20; η = 0.05; lambda = 0.001; @time m = multitrainer(fs, algs, n_ep, \n",
    "    η = η, lambda = lambda, savefile = \"../ciao.txt\", \n",
    "    fig_save = true, par_save = true, orthog = true, \n",
    "    each_step = 5, ort = 50);\n",
    "\n"
   ]
  },
  {
   "cell_type": "code",
   "execution_count": null,
   "metadata": {},
   "outputs": [],
   "source": [
    "#multi family learning\n",
    "using Revise, HopfieldDCA\n",
    "fs = [14, 57, 84, 90, 105, 131, 200, 412, 593, 1774, 1807, 2953, 7648]; H = 21; algs = [HopPlmVar_gen(H, seq_paths_dict[f], T = Float32) \n",
    "    for f in fs]; \n",
    "n_ep = 20; η = 0.05; lambda = 0.001; @time m = multitrainer(fs, algs, n_ep, \n",
    "    η = η, lambda = lambda, savefile = \"../ciao.txt\", \n",
    "    fig_save = true, par_save = true, orthog = true, \n",
    "    each_step = 5, ort = 50);\n",
    "\n"
   ]
  },
  {
   "cell_type": "code",
   "execution_count": null,
   "metadata": {},
   "outputs": [],
   "source": [
    "out_path =\"../multi_fam/H$(H)η$(η)λ$(lambda[1])T$(n_ep)/\" \n",
    "\n",
    "if !isdir(out_path)\n",
    "    println(\"creating directory\")\n",
    "    mkdir(out_path)\n",
    "end\n",
    "for i in 1:length(fs) \n",
    "    s = HopfieldDCA.score(m.Ks[i], m.V); PPV_h = HopfieldDCA.compute_PPV(s, structs_dict[fs[2]]);\n",
    "    @load joinpath(folders_dict[fs[i]], \"PPV_s.jld2\") ss\n",
    "    @load joinpath(folders_dict[fs[i]], \"PPV_plm.jld2\") splm\n",
    "    @save joinpath(out_path, \"parsH$(H)η$(η)λ$(lambda[1])T$(n_ep).jld2\") m PPV_h\n",
    "    \n",
    "    fig,ax1 = plt.subplots()         \n",
    "    ax1.plot(ss, label=\"Stucture\")\n",
    "    ax1.plot(splm, label=\"PLM\")\n",
    "    ax1.plot(PPV_h, label=\"Hop\")\n",
    "    ax1.set_xscale(\"log\")\n",
    "    ax1.set_xlabel(\"Number of Predictions\")\n",
    "    ax1.set_ylabel(\"PPV\")\n",
    "    ax1.legend()\n",
    "    savefig(joinpath(out_path,\"ppv$(fs[i])_H$(H)η$(η)λ$(lambda[1])T$(n_ep).png\")) \n",
    "end\n",
    "    "
   ]
  },
  {
   "cell_type": "code",
   "execution_count": null,
   "metadata": {},
   "outputs": [],
   "source": [
    "#code for testing analytical gradient\n",
    "using HopfieldDCA; using Tullio; import Flux: gradient;\n",
    "filepath = \"../DataAttentionDCA/data/PF00014/PF00014_mgap6.fasta.gz\"; H =32; alg = HopPlmVar_gen(H, filepath;T=Float64); _w = alg.W ./ sum(alg.W); tmp = Stg(alg);\n",
    "@time gt = get_anal_grad(alg.K, alg.V, alg.Z, _w, tmp);\n",
    "@time gk,gv = gradient((p1,p2)->get_loss_J(p1,p2, alg.Z, _w), alg.K, alg.V);\n",
    "sum(gt.K[:].-gk[:])\n",
    "sum(gt.V[:].-gv[:])\n",
    "import BenchmarkTools: @btime\n",
    "@btime gkt,gvt = get_anal_grad(alg.K, alg.V, alg.Z, _w, tmp);\n",
    "@btime gk,gv = gradient((p1,p2)->get_loss_J(p1,p2, alg.Z, _w), alg.K, alg.V);\n",
    "n_ep = 30; η = 0.5; λ = 0.001;\n",
    "@time m,n = trainer_J(alg, n_ep, η = η, λ = λ);\n",
    "@time m,n = trainer(alg, n_ep, η = η, λ = λ);\n",
    "@time m,n = trainer_J(alg, n_ep, η = η, λ = λ);\n",
    "@time m,n = trainer(alg, n_ep, η = η, λ = λ);\n",
    "println(\"the end\")\n"
   ]
  },
  {
   "cell_type": "code",
   "execution_count": null,
   "metadata": {},
   "outputs": [],
   "source": [
    "structfile = \"../DataAttentionDCA/data/PF00014/PF00014_struct.dat\"\n",
    "s = HopfieldDCA.score(m.K, m.V); PPV_h = HopfieldDCA.compute_PPV(s, structfile);\n",
    "ssm = HopfieldDCA.score(m1.K, m1.V); PPV_h_sm = HopfieldDCA.compute_PPV(ssm, structfile);\n",
    "close(\"all\"); loglog(PPV_h_sm, label=\"H = 21\"); loglog(PPV_h, label=\"H = 32\");legend();savefig(\"ciao.png\");\n",
    "\n"
   ]
  },
  {
   "cell_type": "code",
   "execution_count": null,
   "metadata": {},
   "outputs": [],
   "source": [
    "\n",
    "xx = []; for i in 1:21\n",
    "    for j in i+1:21\n",
    "        push!(xx,dot(VV[:,i]./norm(VV[:,i]),VV[:,j]./norm(VV[:,j])))\n",
    "    end \n",
    "end; close(\"all\");hist(xx); savefig(\"../randV.png\")\n",
    "\n",
    "x = []; for i in 1:21\n",
    "    for j in i+1:21\n",
    "        push!(x,dot(m.V[:,i]./norm(m.V[:,i]),m.V[:,j]./norm(m.V[:,j])))\n",
    "    end \n",
    "end; close(\"all\");hist(x); savefig(\"../ort50_sf_V.png\")\n"
   ]
  }
 ],
 "metadata": {
  "kernelspec": {
   "display_name": "Julia 1.10.0",
   "language": "julia",
   "name": "julia-1.10"
  },
  "language_info": {
   "file_extension": ".jl",
   "mimetype": "application/julia",
   "name": "julia",
   "version": "1.10.0"
  }
 },
 "nbformat": 4,
 "nbformat_minor": 4
}
