{
 "cells": [
  {
   "cell_type": "code",
   "execution_count": null,
   "metadata": {},
   "outputs": [],
   "source": [
    "../julia-1.10.0/bin/julia --project=. --thread 32"
   ]
  },
  {
   "cell_type": "code",
   "execution_count": null,
   "metadata": {},
   "outputs": [],
   "source": [
    "using HopfieldDCA\n",
    "filepath = \"../DataAttentionDCA/data/PF00014/PF00014_mgap6.fasta.gz\"; H = 32; alg = HopPlmVar(H, filepath);\n",
    "n_ep = 3; η = 0.005; λ = 0.001;\n",
    "@time m,n = trainer_J(alg, n_ep, η = η, λ = λ, \n",
    "    savefile=\"log_J/H$(H)η$(η)λ$(λ)T$(n_ep).txt\");\n",
    "tmp = HopfieldDCA.StgArr(alg); _w = alg.W ./ sum(alg.W);\n",
    "@time get_loss_J(alg.K, alg.V, alg.Z, _w)\n",
    "@time get_loss_J_tmp(alg.K, alg.V, alg.Z, _w, tmp)\n",
    "\n",
    "\n",
    "println(\"Done\")\n",
    "@time m,n = trainer(alg, n_ep, η = η, λ = λ, \n",
    "    savefile=\"log/H$(H)η$(η)λ$(λ)T$(n_ep).txt\");\n"
   ]
  },
  {
   "cell_type": "code",
   "execution_count": null,
   "metadata": {},
   "outputs": [],
   "source": [
    "structfile = \"../DataAttentionDCA/data/PF00014/PF00014_struct.dat\"\n",
    "s = HopfieldDCA.score(m.K, m.V); PPV_h = HopfieldDCA.compute_PPV(s, structfile);\n",
    "\n",
    "close(\"all\"); plot(ppv_plm[1], label=\"Plm\"); plot(PPV_h, label=\"HopPlm\");legend();savefig(\"ciao.png\");\n",
    "\n"
   ]
  }
 ],
 "metadata": {
  "kernelspec": {
   "display_name": "Julia 1.10.0",
   "language": "julia",
   "name": "julia-1.10"
  },
  "language_info": {
   "file_extension": ".jl",
   "mimetype": "application/julia",
   "name": "julia",
   "version": "1.10.0"
  }
 },
 "nbformat": 4,
 "nbformat_minor": 4
}
