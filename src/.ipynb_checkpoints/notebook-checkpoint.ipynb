{
 "cells": [
  {
   "cell_type": "code",
   "execution_count": null,
   "metadata": {},
   "outputs": [],
   "source": [
    "using HopfieldDCA, BenchmarkTools\n",
    "filepath = \"../DataAttentionDCA\\\\data\\\\PF00014\\\\PF00014_mgap6.fasta.gz\";\n",
    "H = 32; alg = HopPlmVar(H, filepath);\n",
    "@btime lf = get_loss_zyg_francesco(alg.K,alg.V,alg)\n",
    "@btime lp = get_loss_pagnani(alg.K,alg.V,alg)\n",
    "@btime l = get_loss_zyg(alg.K,alg.V,alg)\n",
    "_w = alg.W ./ sum(alg.W)\n",
    "@btime lt = get_loss_(alg.K,alg.V,alg.Z, _w)\n",
    "\n",
    "\n",
    "@btime gf = gradient((p1, p2) -> get_loss_zyg_francesco(p1,p2, alg), alg.K, alg.V);\n",
    "@btime g = gradient((p1, p2) -> get_loss_zyg(p1,p2, alg), alg.K, alg.V);\n",
    "\n"
   ]
  },
  {
   "cell_type": "code",
   "execution_count": null,
   "metadata": {},
   "outputs": [],
   "source": [
    "@btime lf = get_loss_zyg_francesco(alg.K,alg.V,alg)\n",
    "@btime lp = get_loss_pagnani(alg.K,alg.V,alg)\n",
    "@btime l = get_loss_zyg(alg.K,alg.V,alg)\n",
    "\n",
    "m = trainer(alg, 5);"
   ]
  },
  {
   "cell_type": "code",
   "execution_count": null,
   "metadata": {},
   "outputs": [],
   "source": [
    "@btime gf = gradient((p1, p2) -> get_loss_zyg_francesco(p1,p2, alg), alg.K, alg.V);\n",
    "@btime g = gradient((p1, p2) -> get_loss_zyg(p1,p2, alg), alg.K, alg.V);\n"
   ]
  },
  {
   "cell_type": "code",
   "execution_count": null,
   "metadata": {},
   "outputs": [],
   "source": [
    "using HopfieldDCA\n",
    "filepath = \"../DataAttentionDCA\\\\data\\\\PF00014\\\\PF00014_mgap6.fasta.gz\"; H = 32; alg_var = HopPlmVar(H, filepath);\n",
    "η = 0.01; λ = 0.01; @time m = trainer(alg, 1000, η = η, λ = λ, savefile=\"..\\\\HopfieldDCA.jl\\\\H$(H)η$(η)λ$(λ).txt\");\n",
    "l = map(x->parse(Float64,x[5]), split.(split(read(\"log/H32η0.01λ0.01.txt\", String), \"\\n\"))[1:end-1,:])[:];\n",
    "#lambdaK = 0.005; lambdaV = lambdaK;  H = 2; alg_var = define_var(filepath,H,lambdaK,lambdaV);\n",
    "K = rand(alg_var.N, alg_var.N, alg_var.H); V = rand(alg_var.q, alg_var.H); tmp = StgArr(alg_var);\n",
    "en = rand(alg_var.q, alg_var.N, length(alg_var.W)); data_en = rand(alg_var.N, length(alg_var.W));\n",
    "loss = rand(alg_var.N) ; reg_k = rand(alg_var.N);\n",
    "@benchmark lz = get_loss_and_grad_zyg(K, V, alg_var)\n",
    "@benchmark lz2 = get_loss_and_grad_zyg2(K, V, alg_var, tmp)\n",
    "@benchmark lz3 = get_loss_and_grad_zyg3($K, $V, $alg_var, $en, $data_en, $loss, $reg_k)\n",
    "@time az,bz = gradient((p1,p2)->get_loss_and_grad_zyg(p1, p2, alg_var),K,V);\n",
    "@time az2,bz2 = gradient((p1,p2)->get_loss_and_grad_zyg2(p1, p2, alg_var, tmp),K,V);\n",
    "println([sum(az .-az2),sum(bz .-bz2),lz-lz2])\n",
    "\n",
    "K = rand(alg_var.N, alg_var.N, alg_var.H); V = rand(alg_var.q, alg_var.H); tmp = StgArr(alg_var);\n",
    "en = rand(alg_var.q, alg_var.N, length(alg_var.W)); data_en = rand(alg_var.N, length(alg_var.W));\n",
    "loss = rand(alg_var.N) ; reg_k = rand(alg_var.N);\n",
    "@time a,b,l = get_loss_and_grad(K, V, alg_var);\n",
    "@time a2,b2,l2 = get_loss_and_grad2(K, V, alg_var, tmp);\n",
    "@time az,bz = gradient((p1,p2)->get_loss_and_grad_zyg(p1, p2, alg_var),K,V);\n",
    "println([sum(a .-a2), sum(b .-b2), l-l2])\n",
    "println([sum(a .-az), sum(b .-bz)])\n",
    "\n"
   ]
  },
  {
   "cell_type": "code",
   "execution_count": null,
   "metadata": {},
   "outputs": [],
   "source": [
    "filepath = \"../DataAttentionDCA/data/PF00014/PF00014_mgap6.fasta.gz\"; H = 32; alg = HopPlmVar(H, filepath);\n",
    "n_ep = 300; η = 0.005; λ = 0.01; @time m,n = trainer(alg, n_ep, η = η, λ = λ, \n",
    "    savefile=\"log/H$(H)η$(η)λ$(λ)T$(n_ep).txt\");"
   ]
  },
  {
   "cell_type": "code",
   "execution_count": null,
   "metadata": {},
   "outputs": [],
   "source": [
    "filepath = \"../DataAttentionDCA/data/PF00014/PF00014_mgap6.fasta.gz\"; H = 32; alg = HopPlmVar(H, filepath);\n",
    "n_ep = 500; η = 0.005; λ = 0.01; @time m,n = trainer_sf(alg, n_ep, η = η, λ = λ, \n",
    "    savefile=\"log_sf/H$(H)η$(η)λ$(λ)T$(n_ep).txt\");"
   ]
  },
  {
   "cell_type": "code",
   "execution_count": null,
   "metadata": {},
   "outputs": [],
   "source": [
    "KK = softmax_notinplace(K; dims=2)"
   ]
  }
 ],
 "metadata": {
  "kernelspec": {
   "display_name": "Julia 1.10.0",
   "language": "julia",
   "name": "julia-1.10"
  },
  "language_info": {
   "file_extension": ".jl",
   "mimetype": "application/julia",
   "name": "julia",
   "version": "1.10.0"
  }
 },
 "nbformat": 4,
 "nbformat_minor": 4
}
