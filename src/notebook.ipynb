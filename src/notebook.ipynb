{
 "cells": [
  {
   "cell_type": "code",
   "execution_count": null,
   "metadata": {},
   "outputs": [],
   "source": [
    "../julia-1.10.0/bin/julia --project=. --thread 32"
   ]
  },
  {
   "cell_type": "code",
   "execution_count": null,
   "metadata": {},
   "outputs": [],
   "source": [
    "using HopfieldDCA; import Flux: gradient\n",
    "filepath = \"../DataAttentionDCA/data/PF00014/PF00014_mgap6.fasta.gz\"; H = 32; alg = HopPlmVar(H, filepath);tmp = HopfieldDCA.StgArr(alg); _w = alg.W ./ sum(alg.W);\n",
    "n_ep = 3; η = 0.5; λ = 0.001;\n",
    "@time m,n = trainer_J(alg, n_ep, η = η, λ = λ);\n",
    "import Flux: gradient\n",
    "KK = rand(alg.N, alg.N, alg.H);\n",
    "gradient((p1,p2)->get_loss_J_tmp(p1,p2, alg.Z, _w, tmp,KK), alg.K, alg.V)\n",
    "n_ep = 3; η = 0.5; λ = 0.001;\n",
    "@time m,n = trainer_J(alg, n_ep, η = η, λ = λ);\n",
    "@time m,n = trainer_J(alg, n_ep, η = η, λ = λ, \n",
    "    savefile=\"log_J/H$(H)η$(η)λ$(λ)T$(n_ep).txt\");\n",
    "tmp = HopfieldDCA.StgArr(alg); _w = alg.W ./ sum(alg.W);\n",
    "@time get_loss_J(alg.K, alg.V, alg.Z, _w)\n",
    "@time get_loss_J_tmp(alg.K, alg.V, alg.Z, _w, tmp)\n",
    "\n",
    "\n",
    "\n",
    "println(\"Done\")\n",
    "@time m,n = trainer(alg, n_ep, η = η, λ = λ, \n",
    "    savefile=\"log/H$(H)η$(η)λ$(λ)T$(n_ep).txt\");\n"
   ]
  },
  {
   "cell_type": "code",
   "execution_count": null,
   "metadata": {},
   "outputs": [],
   "source": [
    "using HopfieldDCA\n",
    "import Flux: gradient\n",
    "filepath = \"../DataAttentionDCA/data/PF00014/PF00014_mgap6.fasta.gz\"; H = 32; alg = HopPlmVar(H, filepath);tmp = HopfieldDCA.StgArr(alg); _w = alg.W ./ sum(alg.W);\n",
    "N = alg.N; H = alg.H; q = alg.q; M = size(alg.Z,2); \n",
    "KK = rand(N, N, H); J = rand(N,N,q,q); en = zeros(q,N,M); \n",
    "data_en = zeros(N,M); log_z = zeros(N,M); loss = zeros(N);\n",
    "#@time HopfieldDCA.get_loss_J_ext(alg.K, alg.V, alg.Z, _w, KK, J, en, data_en, log_z, loss)\n",
    "@time gradient((p1,p2)->HopfieldDCA.get_loss_J_ext(p1,p2, alg.Z, _w, KK, J, en, data_en, log_z, loss),p1,p2)  "
   ]
  },
  {
   "cell_type": "code",
   "execution_count": null,
   "metadata": {},
   "outputs": [],
   "source": [
    "structfile = \"../DataAttentionDCA/data/PF00014/PF00014_struct.dat\"\n",
    "s = HopfieldDCA.score(m.K, m.V); PPV_h = HopfieldDCA.compute_PPV(s, structfile);\n",
    "\n",
    "close(\"all\"); plot(ppv_plm[1], label=\"Plm\"); plot(PPV_h, label=\"HopPlm\");legend();savefig(\"ciao.png\");\n",
    "\n"
   ]
  }
 ],
 "metadata": {
  "kernelspec": {
   "display_name": "Julia 1.10.0",
   "language": "julia",
   "name": "julia-1.10"
  },
  "language_info": {
   "file_extension": ".jl",
   "mimetype": "application/julia",
   "name": "julia",
   "version": "1.10.0"
  }
 },
 "nbformat": 4,
 "nbformat_minor": 4
}
