{
 "cells": [
  {
   "cell_type": "code",
   "execution_count": null,
   "metadata": {},
   "outputs": [],
   "source": [
    "../julia-1.10.0/bin/julia --project=. --thread 32"
   ]
  },
  {
   "cell_type": "code",
   "execution_count": null,
   "metadata": {},
   "outputs": [],
   "source": [
    "grad_k11 = tmp.grad_k11; prob = tmp.prob; v_prod = tmp.v_prod;\n",
    "@time @tullio verbose=2 grad_k11[i, j, m, h] = prob[a, i, m]*v_prod[a, j, m, h] * (j!=i);\n",
    "Grad_k11 = permutedims(grad_k11,(4,1,2,3)); Prob = prob; V_prod = permutedims(v_prod,(4,1,2,3));\n",
    "@time @tullio verbose=2 Grad_k11[h, i, j, m] = Prob[a, i, m]*V_prod[h, a, j, m] * (j!=i);\n",
    "\n",
    "grad_k11 = tmp.grad_k11; prob = tmp.prob; v_prod = tmp.v_prod;\n",
    "@btime @tullio grad_k11[i, j, m, h] = prob[a, i, m]*v_prod[a, j, m, h] * (j!=i);\n",
    "@btime @tullio grad_k11[i, j, m, h] = prob[a, i, m]*v_prod[a, j, m, h];\n",
    "@btime @tullio grad_k11[i, j, m, h] = grad_k11[i, j, m, h] * (j!=i);\n",
    "\n",
    "\n",
    "\n",
    "\n",
    "\n",
    "Grad_k11 = permutedims(grad_k11,(1,3,4,2)); Prob = permutedims(prob, (1,3,2)); V_prod = permutedims(v_prod,(1,3,4,2));\n",
    "@time @tullio Grad_k11[i, m, h, j] = Prob[a, m, i]*V_prod[a, m, h, j] * (j!=i);\n",
    "\n"
   ]
  },
  {
   "cell_type": "code",
   "execution_count": null,
   "metadata": {},
   "outputs": [],
   "source": [
    "#code for analytical gradient\n",
    "using HopfieldDCA; using Tullio; import Flux: gradient;\n",
    "filepath = \"../DataAttentionDCA/data/PF00014/PF00014_mgap6.fasta.gz\"; H = 15; alg = HopPlmVar_gen(H, filepath;T=Float64); _w = alg.W ./ sum(alg.W); @tullio delta_j[a, j, m] := a == alg.Z[j, m] (a in 1:alg.q); tmp = Stg(alg);\n",
    "@time gt = get_anal_grad(alg.K, alg.V, alg.Z, _w, tmp);\n",
    "@time gk,gv = gradient((p1,p2)->get_loss_J(p1,p2, alg.Z, _w), alg.K, alg.V);\n",
    "sum(gt.K[:].-gk[:])\n",
    "sum(gt.V[:].-gv[:])\n",
    "\n",
    "import BenchmarkTools: @btime\n",
    "@btime gkt,gvt = get_anal_grad(alg.K, alg.V, alg.Z, _w, tmp);\n",
    "@btime gk,gv = gradient((p1,p2)->get_loss_J(p1,p2, alg.Z, _w), alg.K, alg.V);\n",
    "n_ep = 30; η = 0.5; λ = 0.001;\n",
    "@time m,n = trainer_J(alg, n_ep, η = η, λ = λ);\n",
    "@time m,n = trainer(alg, n_ep, η = η, λ = λ);\n",
    "@time m,n = trainer_J(alg, n_ep, η = η, λ = λ);\n",
    "@time m,n = trainer(alg, n_ep, η = η, λ = λ);\n",
    "println(\"the end\")\n"
   ]
  },
  {
   "cell_type": "code",
   "execution_count": null,
   "metadata": {},
   "outputs": [],
   "source": [
    "structfile = \"../DataAttentionDCA/data/PF00014/PF00014_struct.dat\"\n",
    "s = HopfieldDCA.score(m.K, m.V); PPV_h = HopfieldDCA.compute_PPV(s, structfile);\n",
    "\n",
    "close(\"all\"); plot(ppv_plm[1], label=\"Plm\"); plot(PPV_h, label=\"HopPlm\");legend();savefig(\"ciao.png\");\n",
    "\n"
   ]
  }
 ],
 "metadata": {
  "kernelspec": {
   "display_name": "Julia 1.10.0",
   "language": "julia",
   "name": "julia-1.10"
  },
  "language_info": {
   "file_extension": ".jl",
   "mimetype": "application/julia",
   "name": "julia",
   "version": "1.10.0"
  }
 },
 "nbformat": 4,
 "nbformat_minor": 4
}
