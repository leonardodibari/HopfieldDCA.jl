{
 "cells": [
  {
   "cell_type": "code",
   "execution_count": null,
   "metadata": {},
   "outputs": [],
   "source": [
    "../julia-1.10.0/bin/julia --project=. --thread 32"
   ]
  },
  {
   "cell_type": "code",
   "execution_count": null,
   "metadata": {},
   "outputs": [],
   "source": [
    "using HopfieldDCA; import Enzyme: gradient;\n",
    "filepath = \"../DataAttentionDCA/data/PF00014/PF00014_mgap6.fasta.gz\"; H = 2; alg = HopPlmVar(H, filepath);tmp = HopfieldDCA.StgArr(alg); _w = alg.W ./ sum(alg.W); KK = zeros(alg.N,alg.N,H);\n",
    "#gradient((p1,p2)->get_loss_J_tmp(p1,p2, alg.Z, _w, tmp, KK), alg.K, alg.V)\n",
    "n_ep = 3; η = 0.5; λ = 0.001;\n",
    "@time m,n = trainer_J(alg, n_ep, η = η, λ = λ);\n",
    "\n",
    "n_ep = 3; η = 0.5; λ = 0.001;\n",
    "@time m,n = trainer(alg, n_ep, η = η, λ = λ);\n",
    "gradient((p1,p2)->get_loss_J_tmp(p1,p2, alg.Z, _w, tmp, KK), alg.K, alg.V)\n",
    "n_ep = 3; η = 0.5; λ = 0.001;\n",
    "@time m,n = trainer_J(alg, n_ep, η = η, λ = λ);\n",
    "@time m,n = trainer_J(alg, n_ep, η = η, λ = λ, \n",
    "    savefile=\"log_J/H$(H)η$(η)λ$(λ)T$(n_ep).txt\");\n",
    "tmp = HopfieldDCA.StgArr(alg); _w = alg.W ./ sum(alg.W);\n",
    "@time get_loss_J(alg.K, alg.V, alg.Z, _w);\n",
    "@time get_loss_J_tmp(alg.K, alg.V, alg.Z, _w, tmp)\n",
    "\n",
    "\n",
    "\n",
    "println(\"Done\")\n",
    "@time m,n = trainer(alg, n_ep, η = η, λ = λ, \n",
    "    savefile=\"log/H$(H)η$(η)λ$(λ)T$(n_ep).txt\");\n"
   ]
  },
  {
   "cell_type": "code",
   "execution_count": null,
   "metadata": {},
   "outputs": [],
   "source": [
    "#code for analytical gradient\n",
    "using HopfieldDCA; using Tullio; import Flux: gradient;\n",
    "filepath = \"../DataAttentionDCA/data/PF00014/PF00014_mgap6.fasta.gz\"; H = 2; alg = HopPlmVar_gen(H, filepath); _w = alg.W ./ sum(alg.W); @tullio delta_j[a, j, m] := a == alg.Z[j, m] (a in 1:alg.q); tmp = Stg(alg);\n",
    "@time gt = get_anal_grad(alg.K, alg.V, alg.Z, _w, tmp, delta_j);\n",
    "@time gk,gv = gradient((p1,p2)->get_loss_J(p1,p2, alg.Z, _w), alg.K, alg.V);\n",
    "sum(gt.K[:].-gk[:])\n",
    "sum(gt.V[:].-gv[:])\n",
    "import BenchmarkTools: @btime\n",
    "@btime gkt,gvt = get_anal_grad(alg.K, alg.V, alg.Z, _w, tmp, delta_j);\n",
    "@btime gk,gv = gradient((p1,p2)->get_loss_J(p1,p2, alg.Z, _w), alg.K, alg.V);\n",
    "n_ep = 3; η = 0.5; λ = 0.001;\n",
    "@time m,n = trainer_J(alg, n_ep, η = η, λ = λ);\n",
    "@time m,n = trainer(alg, n_ep, η = η, λ = λ);\n",
    "\n"
   ]
  },
  {
   "cell_type": "code",
   "execution_count": null,
   "metadata": {},
   "outputs": [],
   "source": [
    "structfile = \"../DataAttentionDCA/data/PF00014/PF00014_struct.dat\"\n",
    "s = HopfieldDCA.score(m.K, m.V); PPV_h = HopfieldDCA.compute_PPV(s, structfile);\n",
    "\n",
    "close(\"all\"); plot(ppv_plm[1], label=\"Plm\"); plot(PPV_h, label=\"HopPlm\");legend();savefig(\"ciao.png\");\n",
    "\n"
   ]
  }
 ],
 "metadata": {
  "kernelspec": {
   "display_name": "Julia 1.10.0",
   "language": "julia",
   "name": "julia-1.10"
  },
  "language_info": {
   "file_extension": ".jl",
   "mimetype": "application/julia",
   "name": "julia",
   "version": "1.10.0"
  }
 },
 "nbformat": 4,
 "nbformat_minor": 4
}
