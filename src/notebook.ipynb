{
 "cells": [
  {
   "cell_type": "code",
   "execution_count": null,
   "metadata": {},
   "outputs": [],
   "source": [
    "using HopfieldDCA, BenchmarkTools\n",
    "filepath = \"../DataAttentionDCA\\\\data\\\\PF00014\\\\PF00014_mgap6.fasta.gz\";\n",
    "H = 32; alg = HopPlmVar(H, filepath);\n",
    "@btime lf = get_loss_zyg_francesco(alg.K,alg.V,alg)\n",
    "@btime lp = get_loss_pagnani(alg.K,alg.V,alg)\n",
    "@btime l = get_loss_zyg(alg.K,alg.V,alg)\n",
    "_w = alg.W ./ sum(alg.W)\n",
    "@btime lt = get_loss_(alg.K,alg.V,alg.Z, _w)\n",
    "\n",
    "\n",
    "@btime gf = gradient((p1, p2) -> get_loss_zyg_francesco(p1,p2, alg), alg.K, alg.V);\n",
    "@btime g = gradient((p1, p2) -> get_loss_zyg(p1,p2, alg), alg.K, alg.V);\n",
    "\n"
   ]
  },
  {
   "cell_type": "code",
   "execution_count": null,
   "metadata": {},
   "outputs": [],
   "source": [
    "@btime lf = get_loss_zyg_francesco(alg.K,alg.V,alg)\n",
    "@btime lp = get_loss_pagnani(alg.K,alg.V,alg)\n",
    "@btime l = get_loss_zyg(alg.K,alg.V,alg)\n",
    "\n",
    "m = trainer(alg, 5);"
   ]
  },
  {
   "cell_type": "code",
   "execution_count": null,
   "metadata": {},
   "outputs": [],
   "source": [
    "@btime gf = gradient((p1, p2) -> get_loss_zyg_francesco(p1,p2, alg), alg.K, alg.V);\n",
    "@btime g = gradient((p1, p2) -> get_loss_zyg(p1,p2, alg), alg.K, alg.V);\n"
   ]
  },
  {
   "cell_type": "code",
   "execution_count": null,
   "metadata": {},
   "outputs": [],
   "source": [
    "using HopfieldDCA\n",
    "filepath = \"../DataAttentionDCA\\\\data\\\\PF00014\\\\PF00014_mgap6.fasta.gz\"; H = 2; alg_var = HopPlmVar(H, filepath);\n",
    "@time m = trainer(alg, 120, η = 0.01, λ = 0.01, savefile=\"..\\\\HopfieldDCA.jl\\\\H$(H)η$(η)λ$(λ).txt\");\n",
    "#lambdaK = 0.005; lambdaV = lambdaK;  H = 2; alg_var = define_var(filepath,H,lambdaK,lambdaV);\n",
    "K = rand(alg_var.N, alg_var.N, alg_var.H); V = rand(alg_var.q, alg_var.H); tmp = StgArr(alg_var);\n",
    "en = rand(alg_var.q, alg_var.N, length(alg_var.W)); data_en = rand(alg_var.N, length(alg_var.W));\n",
    "loss = rand(alg_var.N) ; reg_k = rand(alg_var.N);\n",
    "@benchmark lz = get_loss_and_grad_zyg(K, V, alg_var)\n",
    "@benchmark lz2 = get_loss_and_grad_zyg2(K, V, alg_var, tmp)\n",
    "@benchmark lz3 = get_loss_and_grad_zyg3($K, $V, $alg_var, $en, $data_en, $loss, $reg_k)\n",
    "@time az,bz = gradient((p1,p2)->get_loss_and_grad_zyg(p1, p2, alg_var),K,V);\n",
    "@time az2,bz2 = gradient((p1,p2)->get_loss_and_grad_zyg2(p1, p2, alg_var, tmp),K,V);\n",
    "println([sum(az .-az2),sum(bz .-bz2),lz-lz2])\n",
    "\n",
    "K = rand(alg_var.N, alg_var.N, alg_var.H); V = rand(alg_var.q, alg_var.H); tmp = StgArr(alg_var);\n",
    "en = rand(alg_var.q, alg_var.N, length(alg_var.W)); data_en = rand(alg_var.N, length(alg_var.W));\n",
    "loss = rand(alg_var.N) ; reg_k = rand(alg_var.N);\n",
    "@time a,b,l = get_loss_and_grad(K, V, alg_var);\n",
    "@time a2,b2,l2 = get_loss_and_grad2(K, V, alg_var, tmp);\n",
    "@time az,bz = gradient((p1,p2)->get_loss_and_grad_zyg(p1, p2, alg_var),K,V);\n",
    "println([sum(a .-a2), sum(b .-b2), l-l2])\n",
    "println([sum(a .-az), sum(b .-bz)])\n",
    "\n"
   ]
  },
  {
   "cell_type": "code",
   "execution_count": null,
   "metadata": {},
   "outputs": [],
   "source": [
    "m = trainer(alg, 1);"
   ]
  },
  {
   "cell_type": "code",
   "execution_count": null,
   "metadata": {},
   "outputs": [],
   "source": [
    "using HopfieldDCA\n",
    "filepath = \"../DataAttentionDCA\\\\data\\\\PF00014\\\\PF00014_mgap6.fasta.gz\"; \n",
    "\n",
    "for h in [2, 10, 30, 50, 70]\n",
    "    for lambda in [10^-5, 10^-3, 10^-2, 10^-1]\n",
    "\n",
    "        lambdaK = lambda; lambdaV = lambdaK; alg_var = define_var(filepath,h,lambdaK,lambdaV);\n",
    "        @time m = trainer(alg_var, 100);\n",
    "    end\n",
    "end"
   ]
  }
 ],
 "metadata": {
  "kernelspec": {
   "display_name": "Julia 1.10.0",
   "language": "julia",
   "name": "julia-1.10"
  },
  "language_info": {
   "file_extension": ".jl",
   "mimetype": "application/julia",
   "name": "julia",
   "version": "1.10.0"
  }
 },
 "nbformat": 4,
 "nbformat_minor": 2
}
